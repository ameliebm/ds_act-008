{
 "cells": [
  {
   "cell_type": "code",
   "execution_count": 1,
   "metadata": {},
   "outputs": [],
   "source": [
    "# Unidad 4: Hipótesis y Correlación - Sesión 2\n",
    "## Ejercicio 1: Evaluación de hipótesis"
   ]
  },
  {
   "cell_type": "code",
   "execution_count": 4,
   "metadata": {},
   "outputs": [],
   "source": [
    "#H0: ambos porcentajes no son estadisticamente diferentes --> iguales \n",
    "#H1: existe una diferencia que en los porcentajes\n",
    "#Con un valor de prueba $p=11.83$ y un puntaje de corte de 2.58, ¿qué se debe concluir?\n",
    "#Para rechazar H0, 11.83 debe ser mayor al criterio de corte 2.58 (99%), por lo tanto,\n",
    "#Se rechaza que ambos porcentajes no sean estadisticamente diferentes\n"
   ]
  },
  {
   "cell_type": "code",
   "execution_count": 5,
   "metadata": {},
   "outputs": [],
   "source": [
    "## Ejercicio 2: Importe la base de datos utilizada la sesión anterior."
   ]
  },
  {
   "cell_type": "code",
   "execution_count": 8,
   "metadata": {},
   "outputs": [],
   "source": [
    "# importamos la triada de Data Science\n",
    "import numpy as np\n",
    "import pandas as pd\n",
    "import matplotlib.pyplot as plt\n",
    "# importamos scipy.stats que ayudará a generar distribuciones\n",
    "import scipy.stats as stats\n",
    "# importamos seaborn, siguiendo la convención de renombrarlo como sns\n",
    "import seaborn as sns\n",
    "# importamos la base de datos\n",
    "df = pd.read_csv('nations.csv', encoding= 'latin1')"
   ]
  },
  {
   "cell_type": "code",
   "execution_count": 17,
   "metadata": {},
   "outputs": [],
   "source": [
    "df_subsample= df.loc[:,['country', 'region','chldmort', 'adfert','life']]"
   ]
  },
  {
   "cell_type": "code",
   "execution_count": 18,
   "metadata": {},
   "outputs": [],
   "source": [
    "temp= df_subsample['region'].unique()"
   ]
  },
  {
   "cell_type": "markdown",
   "metadata": {},
   "source": []
  },
  {
   "cell_type": "code",
   "execution_count": 19,
   "metadata": {},
   "outputs": [
    {
     "data": {
      "text/plain": [
       "array(['Africa', 'Americas', 'Asia', 'Europe', 'Oceania'], dtype=object)"
      ]
     },
     "execution_count": 19,
     "metadata": {},
     "output_type": "execute_result"
    }
   ],
   "source": [
    "temp"
   ]
  },
  {
   "cell_type": "code",
   "execution_count": null,
   "metadata": {},
   "outputs": [],
   "source": []
  }
 ],
 "metadata": {
  "kernelspec": {
   "display_name": "Python 3",
   "language": "python",
   "name": "python3"
  },
  "language_info": {
   "codemirror_mode": {
    "name": "ipython",
    "version": 3
   },
   "file_extension": ".py",
   "mimetype": "text/x-python",
   "name": "python",
   "nbconvert_exporter": "python",
   "pygments_lexer": "ipython3",
   "version": "3.6.5"
  }
 },
 "nbformat": 4,
 "nbformat_minor": 2
}
